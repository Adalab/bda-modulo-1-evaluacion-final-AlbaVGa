{
 "cells": [
  {
   "cell_type": "code",
   "execution_count": 457,
   "metadata": {},
   "outputs": [],
   "source": [
    "# EVALUACION MODULO 1 - Alba Ventas"
   ]
  },
  {
   "cell_type": "markdown",
   "metadata": {},
   "source": [
    "Ejercicio 1. `agregar_producto(nombre, precio, cantidad)`: Esta función agrega un producto al inventario o actualiza su cantidad si ya existe. Debe recibir el nombre, precio y cantidad del producto como parámetros.  \n",
    " \n",
    "     - Itera a través del inventario y compara los nombres de los productos con el nombre proporcionado. \n",
    " \n",
    "     - Si el producto ya existe, actualiza la cantidad. \n",
    " \n",
    "     - Si no existe, agrega un nuevo producto al inventario. "
   ]
  },
  {
   "cell_type": "code",
   "execution_count": 458,
   "metadata": {},
   "outputs": [],
   "source": [
    "# Ejercicio1:\n",
    "    ## inventario=[lista de diccionarios]. vacio al inicio\n",
    "    ## producto={'nombre':nombre,'precio':precio,'cantidad':cantidad}\n",
    "    ## crear funcion agregar_productos(n,p,c)\n",
    "        #itera en inventario y compara nombres de los productos(nombre)\n",
    "        #Si el producto existe, actualiza cantidad\n",
    "        # si != exite, agrega un nuevo producto"
   ]
  },
  {
   "cell_type": "code",
   "execution_count": 17,
   "metadata": {},
   "outputs": [
    {
     "data": {
      "text/plain": [
       "list"
      ]
     },
     "execution_count": 17,
     "metadata": {},
     "output_type": "execute_result"
    }
   ],
   "source": [
    "# creo una lista denominada  inventario y compruebo que se trata de una lista con la funcion type\n",
    "inventario=[]\n",
    "type(inventario)"
   ]
  },
  {
   "cell_type": "code",
   "execution_count": 18,
   "metadata": {},
   "outputs": [],
   "source": [
    "# defino la funcion agregar_productos con sus parámetros.Iteramos con bucle for dentro de inventario y aplicamos  las condiciones. Si encontramos un producto con el mismo nombre, nos saca por pantalla que el producto existe y actualizamos con funcion append.\n",
    "\n",
    "\n",
    "def agregar_productos(nombre,precio,cantidad):\n",
    "    for producto in inventario:\n",
    "        if producto['nombre'] == nombre:\n",
    "            print(f'el producto {nombre} ya existe y se actualiza la cantidad')\n",
    "            producto['cantidad']+= cantidad  #actualiza cantidad\n",
    "            return     \n",
    "    nuevo_producto={'nombre':nombre,'precio':precio,'cantidad':cantidad}\n",
    "    inventario.append(nuevo_producto)\n",
    "        \n",
    "        \n",
    "        "
   ]
  },
  {
   "cell_type": "code",
   "execution_count": 19,
   "metadata": {},
   "outputs": [
    {
     "data": {
      "text/plain": [
       "[]"
      ]
     },
     "execution_count": 19,
     "metadata": {},
     "output_type": "execute_result"
    }
   ],
   "source": [
    "inventario"
   ]
  },
  {
   "cell_type": "code",
   "execution_count": 20,
   "metadata": {},
   "outputs": [],
   "source": [
    "# Llamo a mi funcion:\n",
    "agregar_productos('pantalon',10, 25)\n",
    "agregar_productos('camiseta',20, 30)\n",
    "agregar_productos('falda',30, 40)\n",
    "\n"
   ]
  },
  {
   "cell_type": "code",
   "execution_count": 21,
   "metadata": {},
   "outputs": [
    {
     "name": "stdout",
     "output_type": "stream",
     "text": [
      "[{'nombre': 'pantalon', 'precio': 10, 'cantidad': 25}, {'nombre': 'camiseta', 'precio': 20, 'cantidad': 30}, {'nombre': 'falda', 'precio': 30, 'cantidad': 40}]\n"
     ]
    }
   ],
   "source": [
    "#  ejecuto mi lista y compruebo que ha agregado los parametros dados.\n",
    "inventario\n",
    "print(inventario)"
   ]
  },
  {
   "cell_type": "markdown",
   "metadata": {},
   "source": [
    "Ejercicio 2. `ver_inventario()`: Muestra el inventario de productos con sus detalles.\n",
    "- Utiliza un bucle `for` para recorrer el inventario.\n",
    "- Imprime los detalles (nombre, precio, cantidad) de cada producto."
   ]
  },
  {
   "cell_type": "code",
   "execution_count": 22,
   "metadata": {},
   "outputs": [
    {
     "name": "stdout",
     "output_type": "stream",
     "text": [
      "[{'nombre': 'pantalon', 'precio': 10, 'cantidad': 25}, {'nombre': 'camiseta', 'precio': 20, 'cantidad': 30}, {'nombre': 'falda', 'precio': 30, 'cantidad': 40}]\n"
     ]
    }
   ],
   "source": [
    "# hago una copia de mi inventario, lo sacom por pantalla  y compruebo que esta vacio.\n",
    "inventario_copia=inventario.copy()\n",
    "print(inventario_copia)"
   ]
  },
  {
   "cell_type": "code",
   "execution_count": 23,
   "metadata": {},
   "outputs": [],
   "source": [
    "# defino mi funcion  ver_inventario. Recorro el inventario con bucle for, accedo al valor de cada una de mis keys.\n",
    "def ver_inventario(nombre, precio, cantidad):\n",
    "    print(f\"nombre:{nombre}, precio:{precio},cantidad:{cantidad}\")\n",
    "    for producto in inventario_copia:\n",
    "        nombre= producto['nombre']\n",
    "        precio=producto['precio']\n",
    "        cantidad= producto['cantidad']\n",
    "        \n",
    "        "
   ]
  },
  {
   "cell_type": "code",
   "execution_count": 24,
   "metadata": {},
   "outputs": [
    {
     "name": "stdout",
     "output_type": "stream",
     "text": [
      "nombre:camisa, precio:40,cantidad:50\n",
      "nombre:falda, precio:20,cantidad:10\n",
      "nombre:zapato, precio:10,cantidad:25\n"
     ]
    }
   ],
   "source": [
    "# llamo a mi funcion, le doy valores e imprimo los detalles de cada producto.\n",
    "ver_inventario('camisa',40,50)\n",
    "ver_inventario('falda',20,10)\n",
    "ver_inventario('zapato',10,25)"
   ]
  },
  {
   "cell_type": "markdown",
   "metadata": {},
   "source": [
    "Ejercicio 3 -`buscar_producto(nombre)`: Busca un producto en el inventario por nombre y muestra sus detalles si se encuentra. Debe recibir el nombre del producto como parámetro.  \n",
    "     - Utiliza un bucle `for` para recorrer el inventario. \n",
    " \n",
    "     - Compara los nombres de los productos con el nombre proporcionado. \n",
    " \n",
    "     - Si se encuentra el producto, imprime sus detalles."
   ]
  },
  {
   "cell_type": "code",
   "execution_count": 25,
   "metadata": {},
   "outputs": [
    {
     "data": {
      "text/plain": [
       "[{'nombre': 'pantalon', 'precio': 10, 'cantidad': 25},\n",
       " {'nombre': 'camiseta', 'precio': 20, 'cantidad': 30},\n",
       " {'nombre': 'falda', 'precio': 30, 'cantidad': 40}]"
      ]
     },
     "execution_count": 25,
     "metadata": {},
     "output_type": "execute_result"
    }
   ],
   "source": [
    "# Printeo el \"inventario\".\n",
    "inventario"
   ]
  },
  {
   "cell_type": "code",
   "execution_count": 468,
   "metadata": {},
   "outputs": [],
   "source": [
    "# defino funcion buscar_productos(nombre); recorro cada producto en el inventario con bucle for y comparo los nombre de los productos con el nombre asignado con if.\n",
    "\n",
    "def buscar_productos(nombre):\n",
    " \n",
    "    for producto in inventario:\n",
    "        if producto['nombre']== nombre:         # si condicion se cumple, le pedimos nos imprima los detalles de cada uno de nuestros productos\n",
    "            print(f\"nombre:{producto['nombre']},precio:{producto['precio']},cantidad:{producto['cantidad']}\")\n",
    "            break\n",
    "            \n",
    "    else:\n",
    "        print(\"no se encuentra el producto\")\n",
    "            \n",
    "       \n"
   ]
  },
  {
   "cell_type": "code",
   "execution_count": 469,
   "metadata": {},
   "outputs": [
    {
     "name": "stdout",
     "output_type": "stream",
     "text": [
      "nombre:pantalon,precio:10,cantidad:25\n",
      "nombre:camiseta,precio:20,cantidad:30\n",
      "no se encuentra el producto\n"
     ]
    }
   ],
   "source": [
    "# llamamos a la funcion.\n",
    "buscar_productos('pantalon')\n",
    "buscar_productos('camiseta')\n",
    "buscar_productos('abrigo')\n"
   ]
  },
  {
   "cell_type": "markdown",
   "metadata": {},
   "source": [
    " \n",
    " Ejercicio 4. `actualizar_stock(nombre, cantidad)`: Actualiza el stock de un producto en el inventario. Debe recibir el nombre del producto y la cantidad a agregar o quitar como parámetros. \n",
    " \n",
    "    - Utiliza un bucle `for` para recorrer el inventario. \n",
    " \n",
    "    - Busca el producto por nombre. \n",
    " \n",
    "    - Actualiza la cantidad según la entrada del usuario. \n",
    " \n",
    "    - Si el producto no esta en el inventario muestra un mensaje indicándolo"
   ]
  },
  {
   "cell_type": "code",
   "execution_count": 470,
   "metadata": {},
   "outputs": [
    {
     "data": {
      "text/plain": [
       "[{'nombre': 'pantalon', 'precio': 10, 'cantidad': 25},\n",
       " {'nombre': 'camiseta', 'precio': 20, 'cantidad': 30},\n",
       " {'nombre': 'falda', 'precio': 30, 'cantidad': 40}]"
      ]
     },
     "execution_count": 470,
     "metadata": {},
     "output_type": "execute_result"
    }
   ],
   "source": [
    "# chequeo contenido actual del inventario\n",
    "inventario"
   ]
  },
  {
   "cell_type": "code",
   "execution_count": 471,
   "metadata": {},
   "outputs": [],
   "source": [
    "# defino actualizar_stock\n",
    "# recorro mi inventario 'con bucle for' y busco por nombre.\n",
    "# aplico la condicion 'if' si el producto esta en el diccionario, actualizame la cantidad.\n",
    "# si el producto no esta"
   ]
  },
  {
   "cell_type": "code",
   "execution_count": 472,
   "metadata": {},
   "outputs": [],
   "source": [
    "\n",
    "def actualizar_stock(nombre,cantidad):\n",
    "    \n",
    "    for producto in inventario:\n",
    "        if producto['nombre']==nombre:\n",
    "            producto['cantidad'] += cantidad\n",
    "            print(f\"el producto {producto['nombre']} ha sido actualizada con:{producto['cantidad']}\")\n",
    "            return\n",
    "        \n",
    "    print(f\"el producto no esta en el inventario\")\n"
   ]
  },
  {
   "cell_type": "code",
   "execution_count": 473,
   "metadata": {},
   "outputs": [
    {
     "name": "stdout",
     "output_type": "stream",
     "text": [
      "el producto pantalon ha sido actualizada con:35\n",
      "el producto camiseta ha sido actualizada con:35\n",
      "el producto no esta en el inventario\n"
     ]
    }
   ],
   "source": [
    "actualizar_stock('pantalon',10)\n",
    "actualizar_stock('camiseta',5)\n",
    "actualizar_stock('medias',5)"
   ]
  },
  {
   "cell_type": "code",
   "execution_count": 474,
   "metadata": {},
   "outputs": [
    {
     "data": {
      "text/plain": [
       "[{'nombre': 'pantalon', 'precio': 10, 'cantidad': 35},\n",
       " {'nombre': 'camiseta', 'precio': 20, 'cantidad': 35},\n",
       " {'nombre': 'falda', 'precio': 30, 'cantidad': 40}]"
      ]
     },
     "execution_count": 474,
     "metadata": {},
     "output_type": "execute_result"
    }
   ],
   "source": [
    "inventario"
   ]
  },
  {
   "cell_type": "markdown",
   "metadata": {},
   "source": [
    "Ejercicio 5-  `eliminar_producto(nombre)`: Elimina un producto del inventario por nombre. Debe recibir el nombre del producto como parámetro. \n",
    " \n",
    "     - Utiliza un bucle `for` para recorrer el inventario. \n",
    " \n",
    "     - Busca el producto por nombre. \n",
    " \n",
    "     - Elimina el producto del inventario si existe. \n",
    " \n",
    "     - Si el producto no esta en el inventario muestra un mensaje indicándolo. "
   ]
  },
  {
   "cell_type": "code",
   "execution_count": 475,
   "metadata": {},
   "outputs": [],
   "source": [
    "# crear funcion eliminar_producto.\n",
    "# Recorrer inventario con 'bucle for'\n",
    "# Empleamos metodo pop()para eliminar una clave."
   ]
  },
  {
   "cell_type": "code",
   "execution_count": 476,
   "metadata": {},
   "outputs": [],
   "source": [
    "def eliminar_producto(nombre):\n",
    "    print(inventario)\n",
    "    for producto in range(len(inventario)):\n",
    "        if inventario [producto] ['nombre']==nombre:\n",
    "            inventario.pop(producto)\n",
    "            print(f\"el producto ha sido eliminado con exito\")\n",
    "    \n",
    "    return"
   ]
  },
  {
   "cell_type": "code",
   "execution_count": 477,
   "metadata": {},
   "outputs": [
    {
     "name": "stdout",
     "output_type": "stream",
     "text": [
      "[{'nombre': 'pantalon', 'precio': 10, 'cantidad': 35}, {'nombre': 'camiseta', 'precio': 20, 'cantidad': 35}, {'nombre': 'falda', 'precio': 30, 'cantidad': 40}]\n",
      "el producto ha sido eliminado con exito\n"
     ]
    },
    {
     "ename": "IndexError",
     "evalue": "list index out of range",
     "output_type": "error",
     "traceback": [
      "\u001b[0;31m---------------------------------------------------------------------------\u001b[0m",
      "\u001b[0;31mIndexError\u001b[0m                                Traceback (most recent call last)",
      "Cell \u001b[0;32mIn[477], line 2\u001b[0m\n\u001b[1;32m      1\u001b[0m \u001b[38;5;66;03m# llamamos a la funcion y eliminamos la clave'pantalon'\u001b[39;00m\n\u001b[0;32m----> 2\u001b[0m eliminar_producto(\u001b[38;5;124m'\u001b[39m\u001b[38;5;124mpantalon\u001b[39m\u001b[38;5;124m'\u001b[39m)\n",
      "Cell \u001b[0;32mIn[476], line 4\u001b[0m, in \u001b[0;36meliminar_producto\u001b[0;34m(nombre)\u001b[0m\n\u001b[1;32m      2\u001b[0m \u001b[38;5;28mprint\u001b[39m(inventario)\n\u001b[1;32m      3\u001b[0m \u001b[38;5;28;01mfor\u001b[39;00m producto \u001b[38;5;129;01min\u001b[39;00m \u001b[38;5;28mrange\u001b[39m(\u001b[38;5;28mlen\u001b[39m(inventario)):\n\u001b[0;32m----> 4\u001b[0m     \u001b[38;5;28;01mif\u001b[39;00m inventario [producto] [\u001b[38;5;124m'\u001b[39m\u001b[38;5;124mnombre\u001b[39m\u001b[38;5;124m'\u001b[39m]\u001b[38;5;241m==\u001b[39mnombre:\n\u001b[1;32m      5\u001b[0m         inventario\u001b[38;5;241m.\u001b[39mpop(producto)\n\u001b[1;32m      6\u001b[0m         \u001b[38;5;28mprint\u001b[39m(\u001b[38;5;124mf\u001b[39m\u001b[38;5;124m\"\u001b[39m\u001b[38;5;124mel producto ha sido eliminado con exito\u001b[39m\u001b[38;5;124m\"\u001b[39m)\n",
      "\u001b[0;31mIndexError\u001b[0m: list index out of range"
     ]
    }
   ],
   "source": [
    "# llamamos a la funcion y eliminamos la clave'pantalon'\n",
    "eliminar_producto('pantalon')\n"
   ]
  },
  {
   "cell_type": "code",
   "execution_count": null,
   "metadata": {},
   "outputs": [],
   "source": [
    " Ejercicio 6 - `calcular_valor_inventario()`: Calcula y muestra el valor total del inventario. \n",
    " \n",
    "     - Utiliza un bucle for para calcular el valor total del inventario. \n",
    " \n",
    "     - Itera a través del inventario y suma el valor de cada producto (precio x cantidad). Es decir, calcula el valor total del inventario"
   ]
  },
  {
   "cell_type": "code",
   "execution_count": 404,
   "metadata": {},
   "outputs": [],
   "source": [
    "#  Vacio mi inventarioo.\n",
    "#  Defino mi inventario calcula_valor_inventario.\n",
    "    # calculo e imprimo el valor de cada producto que es la cantidad * precio.\n",
    "    # calculo el valor total del inventario\n",
    "# Agrego prodcutos al inventario.\n",
    "# llamo a mi funcion"
   ]
  },
  {
   "cell_type": "code",
   "execution_count": 428,
   "metadata": {},
   "outputs": [],
   "source": [
    "inventario=[]"
   ]
  },
  {
   "cell_type": "code",
   "execution_count": 429,
   "metadata": {},
   "outputs": [],
   "source": [
    "def calcular_valor_inventario():\n",
    "\n",
    "    valor_total=0\n",
    "    for producto in inventario:\n",
    "           \n",
    "        valor_producto=producto['precio']*producto['cantidad']\n",
    "        print(f'el valor del producto', producto['nombre'],'es', valor_producto)\n",
    "        valor_total += valor_producto   \n",
    "        print(f'el valor total del inventario es:{valor_total}')\n",
    "    return valor_total\n",
    "\n",
    " "
   ]
  },
  {
   "cell_type": "code",
   "execution_count": 434,
   "metadata": {},
   "outputs": [
    {
     "name": "stdout",
     "output_type": "stream",
     "text": [
      "el producto pantalon ya existe y se actualiza la cantidad\n",
      "el producto camisa ya existe y se actualiza la cantidad\n",
      "el producto falda ya existe y se actualiza la cantidad\n"
     ]
    },
    {
     "data": {
      "text/plain": [
       "[{'nombre': 'pantalon', 'precio': 5, 'cantidad': 40},\n",
       " {'nombre': 'camisa', 'precio': 10, 'cantidad': 80},\n",
       " {'nombre': 'falda', 'precio': 15, 'cantidad': 40}]"
      ]
     },
     "execution_count": 434,
     "metadata": {},
     "output_type": "execute_result"
    }
   ],
   "source": [
    "agregar_productos('pantalon',5,10)\n",
    "agregar_productos('camisa',10,20)\n",
    "agregar_productos('falda',15,10)\n",
    "inventario"
   ]
  },
  {
   "cell_type": "code",
   "execution_count": 435,
   "metadata": {},
   "outputs": [
    {
     "name": "stdout",
     "output_type": "stream",
     "text": [
      "el valor del producto pantalon es 200\n",
      "el valor total del inventario es:200\n",
      "el valor del producto camisa es 800\n",
      "el valor total del inventario es:1000\n",
      "el valor del producto falda es 600\n",
      "el valor total del inventario es:1600\n"
     ]
    },
    {
     "data": {
      "text/plain": [
       "1600"
      ]
     },
     "execution_count": 435,
     "metadata": {},
     "output_type": "execute_result"
    }
   ],
   "source": [
    "calcular_valor_inventario()"
   ]
  },
  {
   "cell_type": "code",
   "execution_count": null,
   "metadata": {},
   "outputs": [],
   "source": [
    "Ejercicio 7. `realizar_compra()`: Permite a un cliente realizar una compra seleccionando productos del inventario. Debe interactuar con el cliente para seleccionar productos y calcular el costo total de la compra. \n",
    " \n",
    "     - Utiliza un bucle `while` para permitir al cliente realizar múltiples compras. \n",
    " \n",
    "     - Muestra el inventario y solicita al cliente ingresar el nombre del producto que desea comprar. \n",
    " \n",
    "     - Registra los productos seleccionados en un carrito y actualiza el inventario. \n",
    "     \n",
    "    \n",
    "     - Calcula el costo total de la compra."
   ]
  },
  {
   "cell_type": "code",
   "execution_count": null,
   "metadata": {},
   "outputs": [],
   "source": [
    "clientes` (diccionario): Una estructura para llevar un registro de los clientes de la tienda. Cada cliente debe ser representado como un diccionario con las siguientes claves: `'nombre'` y `'email'`. Al inicio \n",
    "deberá ser un diccionario vacío. Además, cada cliente debe tener un historial de compras. Deberá parecerse a"
   ]
  },
  {
   "cell_type": "code",
   "execution_count": 13,
   "metadata": {},
   "outputs": [],
   "source": [
    "\n",
    "def realizar_compra():\n",
    "    carrito= []\n",
    "    ventas_totales= 0\n",
    "    \n",
    "    while True:\n",
    "        mostrar_inventario()\n",
    "        producto_deseado=input(\"ingrese el nombre del produco que quiere comprar ( o 'finalizar'para terminar):\")\n",
    "        \n",
    "        if producto_deseado == 'finalizar':\n",
    "            break      # salimos del bucle si el cliente finaliza compra\n",
    "        for producto in inventario:\n",
    "            print('inventario')\n",
    "            if producto_deseado == producto['nombre']:\n",
    "                print(\"'has seleccionado { producto['nombre']}\")\n",
    "    \n",
    "                \n",
    "            \n",
    "        \n",
    "    "
   ]
  },
  {
   "cell_type": "code",
   "execution_count": null,
   "metadata": {},
   "outputs": [],
   "source": [
    "# Ejemplo de inventario\n",
    "inventario = [\n",
    "    {\"nombre\": \"Pantalón azul\", \"precio\": 25.99, \"cantidad\": 10},\n",
    "    {\"nombre\": \"Camisa blanca\", \"precio\": 15.99, \"cantidad\": 5},\n",
    "    {\"nombre\": \"Pantalón negro\", \"precio\": 29.99, \"cantidad\": 8},\n",
    "]\n",
    "\n",
    "def mostrar_inventario():\n",
    "    print(\"\\nInventario disponible:\")\n",
    "    for producto in inventario:\n",
    "        print(f\"{producto['nombre']} - Precio: ${producto['precio']:.2f} - Cantidad: {producto['cantidad']}\")\n",
    "\n",
    "def realizar_compra():\n",
    "    carrito = []  # Inicializa el carrito de compras\n",
    "    total_compra = 0  # Inicializa el costo total de la compra\n",
    "\n",
    "    while True:\n",
    "        mostrar_inventario()  # Muestra el inventario\n",
    "        producto_seleccionado = input(\"Ingrese el nombre del producto que desea comprar (o 'salir' para terminar): \")\n",
    "\n",
    "        if producto_seleccionado.lower() == 'salir':\n",
    "            break  # Sale del bucle si el cliente termina la compra\n",
    "\n",
    "        # Buscar el producto en el inventario\n",
    "        for producto in inventario:\n",
    "            if producto['nombre'].lower() == producto_seleccionado.lower():\n",
    "                if producto['cantidad'] > 0:  # Verifica si hay stock\n",
    "                    carrito.append(producto['nombre'])  # Agrega el producto al carrito\n",
    "                    total_compra += producto['precio']  # Suma el precio al total\n",
    "                    producto['cantidad'] -= 1  # Reduce la cantidad en el inventario\n",
    "                    print(f\"Agregado {producto['nombre']} al carrito. Precio: ${producto['precio']:.2f}\")\n",
    "                else:\n",
    "                    print(f\"Lo siento, {producto['nombre']} está fuera de stock.\")\n",
    "                break\n",
    "        else:\n",
    "            print(f\"El producto '{producto_seleccionado}' no se encontró en el inventario.\")\n",
    "\n",
    "    # Mostrar resumen de la compra\n",
    "    print(\"\\nResumen de la compra:\")\n",
    "    for item in carrito:\n",
    "        print(f\"- {item}\")\n",
    "    print(f\"Costo total de la compra: ${total_compra:.2f}\")\n",
    "\n",
    "# Llamar a la función para realizar una compra\n",
    "realizar_compra()\n"
   ]
  }
 ],
 "metadata": {
  "kernelspec": {
   "display_name": "base",
   "language": "python",
   "name": "python3"
  },
  "language_info": {
   "codemirror_mode": {
    "name": "ipython",
    "version": 3
   },
   "file_extension": ".py",
   "mimetype": "text/x-python",
   "name": "python",
   "nbconvert_exporter": "python",
   "pygments_lexer": "ipython3",
   "version": "3.11.5"
  }
 },
 "nbformat": 4,
 "nbformat_minor": 2
}
