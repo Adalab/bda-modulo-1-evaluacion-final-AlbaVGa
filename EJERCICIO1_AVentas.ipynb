{
 "cells": [
  {
   "cell_type": "code",
   "execution_count": 18,
   "metadata": {},
   "outputs": [],
   "source": [
    "# EVALUACION MODULO 1 - Alba Ventas"
   ]
  },
  {
   "cell_type": "markdown",
   "metadata": {},
   "source": [
    "Ejercicio 1. `agregar_producto(nombre, precio, cantidad)`: Esta función agrega un producto al inventario o actualiza su cantidad si ya existe. Debe recibir el nombre, precio y cantidad del producto como parámetros.  \n",
    " \n",
    "     - Itera a través del inventario y compara los nombres de los productos con el nombre proporcionado. \n",
    " \n",
    "     - Si el producto ya existe, actualiza la cantidad. \n",
    " \n",
    "     - Si no existe, agrega un nuevo producto al inventario. "
   ]
  },
  {
   "cell_type": "code",
   "execution_count": 19,
   "metadata": {},
   "outputs": [],
   "source": [
    "# Ejercicio1:\n",
    "    ## inventario=[lista de diccionarios]. vacio al inicio\n",
    "    ## producto={'nombre':nombre,'precio':precio,'cantidad':cantidad}\n",
    "    ## crear funcion agregar_productos(n,p,c)\n",
    "        #itera en inventario y compara nombres de los productos(nombre)\n",
    "        #Si el producto existe, actualiza cantidad\n",
    "        # si != exite, agrega un nuevo producto"
   ]
  },
  {
   "cell_type": "code",
   "execution_count": 16,
   "metadata": {},
   "outputs": [
    {
     "data": {
      "text/plain": [
       "list"
      ]
     },
     "execution_count": 16,
     "metadata": {},
     "output_type": "execute_result"
    }
   ],
   "source": [
    "# creo una lista denominada  inventario y compruebo que se trata de una lista con la funcion type\n",
    "inventario=[]\n",
    "type(inventario)"
   ]
  },
  {
   "cell_type": "code",
   "execution_count": 17,
   "metadata": {},
   "outputs": [],
   "source": [
    "# defino la funcion agregar_productos con sus parámetros.Iteramos con bucle for dentro de inventario y aplicamos  las condiciones. Si encontramos un producto con el mismo nombre, nos saca por pantalla que el producto existe y actualizamos con funcion append.\n",
    "\n",
    "\n",
    "def agregar_productos(nombre,precio,cantidad):\n",
    "    for producto in inventario:\n",
    "        if producto['nombre'] == nombre:\n",
    "            print(f'el producto {nombre} ya existe y se actualiza la cantidad')\n",
    "            producto['cantidad']+= cantidad  #actualiza cantidad\n",
    "            return     \n",
    "    nuevo_producto={'nombre':nombre,'precio':precio,'cantidad':cantidad}\n",
    "    inventario.append(nuevo_producto)\n",
    "    \n",
    "        "
   ]
  },
  {
   "cell_type": "code",
   "execution_count": 18,
   "metadata": {},
   "outputs": [],
   "source": [
    "# Llamo a mi funcion:\n",
    "agregar_productos('pantalon',10, 25)\n",
    "agregar_productos('camiseta',20, 30)\n",
    "agregar_productos('falda',30, 40)\n",
    "\n"
   ]
  },
  {
   "cell_type": "code",
   "execution_count": 19,
   "metadata": {},
   "outputs": [
    {
     "name": "stdout",
     "output_type": "stream",
     "text": [
      "[{'nombre': 'pantalon', 'precio': 10, 'cantidad': 25}, {'nombre': 'camiseta', 'precio': 20, 'cantidad': 30}, {'nombre': 'falda', 'precio': 30, 'cantidad': 40}]\n"
     ]
    }
   ],
   "source": [
    "#  ejecuto mi lista y compruebo que ha agregado los parametros dados.\n",
    "inventario\n",
    "print(inventario)"
   ]
  },
  {
   "cell_type": "markdown",
   "metadata": {},
   "source": [
    "Ejercicio 2. `ver_inventario()`: Muestra el inventario de productos con sus detalles.\n",
    "- Utiliza un bucle `for` para recorrer el inventario.\n",
    "- Imprime los detalles (nombre, precio, cantidad) de cada producto."
   ]
  },
  {
   "cell_type": "code",
   "execution_count": 20,
   "metadata": {},
   "outputs": [
    {
     "name": "stdout",
     "output_type": "stream",
     "text": [
      "[{'nombre': 'pantalon', 'precio': 10, 'cantidad': 25}, {'nombre': 'camiseta', 'precio': 20, 'cantidad': 30}, {'nombre': 'falda', 'precio': 30, 'cantidad': 40}]\n"
     ]
    }
   ],
   "source": [
    "# hago una copia de mi inventario, lo sacom por pantalla  y compruebo que esta vacio.\n",
    "inventario_copia=inventario.copy()\n",
    "print(inventario_copia)"
   ]
  },
  {
   "cell_type": "code",
   "execution_count": 21,
   "metadata": {},
   "outputs": [],
   "source": [
    "# defino mi funcion  ver_inventario. Recorro el inventario con bucle for, accedo al valor de cada una de mis keys.\n",
    "def ver_inventario(nombre, precio, cantidad):\n",
    "    print(f\"nombre:{nombre}, precio:{precio},cantidad:{cantidad}\")\n",
    "    for producto in inventario_copia:\n",
    "        nombre= producto['nombre']\n",
    "        precio=producto['precio']\n",
    "        cantidad= producto['cantidad']\n",
    "        \n",
    "        "
   ]
  },
  {
   "cell_type": "code",
   "execution_count": 22,
   "metadata": {},
   "outputs": [
    {
     "name": "stdout",
     "output_type": "stream",
     "text": [
      "nombre:camisa, precio:40,cantidad:50\n",
      "nombre:falda, precio:20,cantidad:10\n",
      "nombre:zapato, precio:10,cantidad:25\n"
     ]
    }
   ],
   "source": [
    "# llamo a mi funcion, le doy valores e imprimo los detalles de cada producto.\n",
    "ver_inventario('camisa',40,50)\n",
    "ver_inventario('falda',20,10)\n",
    "ver_inventario('zapato',10,25)"
   ]
  },
  {
   "cell_type": "markdown",
   "metadata": {},
   "source": [
    "Ejercicio 3 -`buscar_producto(nombre)`: Busca un producto en el inventario por nombre y muestra sus detalles si se encuentra. Debe recibir el nombre del producto como parámetro.  \n",
    "- Utiliza un bucle `for` para recorrer el inventario. \n",
    "- Compara los nombres de los productos con el nombre proporcionado. \n",
    "- Si se encuentra el producto, imprime sus detalles."
   ]
  },
  {
   "cell_type": "code",
   "execution_count": 23,
   "metadata": {},
   "outputs": [
    {
     "data": {
      "text/plain": [
       "[{'nombre': 'pantalon', 'precio': 10, 'cantidad': 25},\n",
       " {'nombre': 'camiseta', 'precio': 20, 'cantidad': 30},\n",
       " {'nombre': 'falda', 'precio': 30, 'cantidad': 40}]"
      ]
     },
     "execution_count": 23,
     "metadata": {},
     "output_type": "execute_result"
    }
   ],
   "source": [
    "# Printeo el \"inventario\".\n",
    "inventario"
   ]
  },
  {
   "cell_type": "code",
   "execution_count": 24,
   "metadata": {},
   "outputs": [],
   "source": [
    "# defino funcion buscar_productos(nombre); recorro cada producto en el inventario con bucle for y comparo los nombre de los productos con el nombre asignado con if.\n",
    "\n",
    "def buscar_productos(nombre):\n",
    " \n",
    "    for producto in inventario:\n",
    "        if producto['nombre']== nombre:         # si condicion se cumple, le pedimos nos imprima los detalles de cada uno de nuestros productos\n",
    "            print(f\"nombre:{producto['nombre']},precio:{producto['precio']},cantidad:{producto['cantidad']}\")\n",
    "            break\n",
    "            \n",
    "    else:\n",
    "        print(\"no se encuentra el producto\")\n",
    "            \n",
    "    "
   ]
  },
  {
   "cell_type": "code",
   "execution_count": 25,
   "metadata": {},
   "outputs": [
    {
     "name": "stdout",
     "output_type": "stream",
     "text": [
      "nombre:pantalon,precio:10,cantidad:25\n",
      "nombre:camiseta,precio:20,cantidad:30\n",
      "no se encuentra el producto\n"
     ]
    }
   ],
   "source": [
    "# llamamos a la funcion.\n",
    "buscar_productos('pantalon')\n",
    "buscar_productos('camiseta')\n",
    "buscar_productos('abrigo')\n"
   ]
  },
  {
   "cell_type": "markdown",
   "metadata": {},
   "source": [
    " \n",
    " Ejercicio 4. `actualizar_stock(nombre, cantidad)`: Actualiza el stock de un producto en el inventario. Debe recibir el nombre del producto y la cantidad a agregar o quitar como parámetros. \n",
    " \n",
    "    - Utiliza un bucle `for` para recorrer el inventario. \n",
    " \n",
    "    - Busca el producto por nombre. \n",
    " \n",
    "    - Actualiza la cantidad según la entrada del usuario. \n",
    " \n",
    "    - Si el producto no esta en el inventario muestra un mensaje indicándolo"
   ]
  },
  {
   "cell_type": "code",
   "execution_count": 26,
   "metadata": {},
   "outputs": [
    {
     "data": {
      "text/plain": [
       "[{'nombre': 'pantalon', 'precio': 10, 'cantidad': 25},\n",
       " {'nombre': 'camiseta', 'precio': 20, 'cantidad': 30},\n",
       " {'nombre': 'falda', 'precio': 30, 'cantidad': 40}]"
      ]
     },
     "execution_count": 26,
     "metadata": {},
     "output_type": "execute_result"
    }
   ],
   "source": [
    "# chequeo contenido actual del inventario\n",
    "inventario"
   ]
  },
  {
   "cell_type": "code",
   "execution_count": 27,
   "metadata": {},
   "outputs": [],
   "source": [
    "# defino funcion actualizar_stock\n",
    "# recorro mi inventario 'con bucle for' y busco por nombre.\n",
    "# aplico la condicion 'if' si el producto esta en el diccionario, actualizame la cantidad.\n",
    "# si el producto no esta"
   ]
  },
  {
   "cell_type": "code",
   "execution_count": 28,
   "metadata": {},
   "outputs": [],
   "source": [
    "\n",
    "def actualizar_stock(nombre,cantidad):\n",
    "    \n",
    "    for producto in inventario:\n",
    "        if producto['nombre']==nombre:\n",
    "            producto['cantidad'] += cantidad\n",
    "            print(f\"el producto {producto['nombre']} ha sido actualizada con:{producto['cantidad']}\")\n",
    "            return\n",
    "        \n",
    "    print(f\"el producto no esta en el inventario\")\n"
   ]
  },
  {
   "cell_type": "code",
   "execution_count": 29,
   "metadata": {},
   "outputs": [
    {
     "name": "stdout",
     "output_type": "stream",
     "text": [
      "el producto pantalon ha sido actualizada con:35\n",
      "el producto camiseta ha sido actualizada con:35\n",
      "el producto no esta en el inventario\n"
     ]
    }
   ],
   "source": [
    "actualizar_stock('pantalon',10)\n",
    "actualizar_stock('camiseta',5)\n",
    "actualizar_stock('medias',5)"
   ]
  },
  {
   "cell_type": "code",
   "execution_count": 30,
   "metadata": {},
   "outputs": [
    {
     "data": {
      "text/plain": [
       "[{'nombre': 'pantalon', 'precio': 10, 'cantidad': 35},\n",
       " {'nombre': 'camiseta', 'precio': 20, 'cantidad': 35},\n",
       " {'nombre': 'falda', 'precio': 30, 'cantidad': 40}]"
      ]
     },
     "execution_count": 30,
     "metadata": {},
     "output_type": "execute_result"
    }
   ],
   "source": [
    "inventario"
   ]
  },
  {
   "cell_type": "markdown",
   "metadata": {},
   "source": [
    "Ejercicio 5-  `eliminar_producto(nombre)`: Elimina un producto del inventario por nombre. Debe recibir el nombre del producto como parámetro. \n",
    " \n",
    "- Utiliza un bucle `for` para recorrer el inventario. \n",
    "- Busca el producto por nombre. \n",
    "- Elimina el producto del inventario si existe. \n",
    " - Si el producto no esta en el inventario muestra un mensaje indicándolo. "
   ]
  },
  {
   "cell_type": "code",
   "execution_count": 35,
   "metadata": {},
   "outputs": [],
   "source": [
    "# crear funcion eliminar_producto.\n",
    "# Recorrer inventario con 'bucle for'\n",
    "# Empleamos metodo pop()para eliminar una clave."
   ]
  },
  {
   "cell_type": "code",
   "execution_count": 31,
   "metadata": {},
   "outputs": [],
   "source": [
    "def eliminar_producto(nombre):\n",
    "    print(inventario)\n",
    "    for producto in range(len(inventario)):\n",
    "        if inventario [producto] ['nombre']==nombre:\n",
    "            inventario.pop(producto)\n",
    "            print(f\"el producto ha sido eliminado con exito\")\n",
    "    \n",
    "    return"
   ]
  },
  {
   "cell_type": "code",
   "execution_count": 32,
   "metadata": {},
   "outputs": [
    {
     "name": "stdout",
     "output_type": "stream",
     "text": [
      "[{'nombre': 'pantalon', 'precio': 10, 'cantidad': 35}, {'nombre': 'camiseta', 'precio': 20, 'cantidad': 35}, {'nombre': 'falda', 'precio': 30, 'cantidad': 40}]\n",
      "el producto ha sido eliminado con exito\n"
     ]
    }
   ],
   "source": [
    "# llamamos a la funcion y eliminamos la clave'pantalon'\n",
    "eliminar_producto('falda')\n"
   ]
  },
  {
   "cell_type": "code",
   "execution_count": null,
   "metadata": {},
   "outputs": [],
   "source": [
    "Ejercicio 6 - `calcular_valor_inventario()`: Calcula y muestra el valor total del inventario. \n",
    " - Utiliza un bucle for para calcular el valor total del inventario. \n",
    " - Itera a través del inventario y suma el valor de cada producto (precio x cantidad). Es decir, calcula el valor total del inventario"
   ]
  },
  {
   "cell_type": "code",
   "execution_count": 46,
   "metadata": {},
   "outputs": [],
   "source": [
    "# inicializo con inventario vacio.\n",
    "#  Defino mi inventario calcula_valor_inventario.\n",
    "    # calculo e imprimo el valor de cada producto que es la cantidad * precio.\n",
    "    # calculo el valor total del inventario\n",
    "# Agrego prodcutos al inventario.\n",
    "# llamo a mi funcion"
   ]
  },
  {
   "cell_type": "code",
   "execution_count": 33,
   "metadata": {},
   "outputs": [],
   "source": [
    "inventario=[]"
   ]
  },
  {
   "cell_type": "code",
   "execution_count": 34,
   "metadata": {},
   "outputs": [],
   "source": [
    "def calcular_valor_inventario():\n",
    "\n",
    "    valor_total=0\n",
    "    for producto in inventario:\n",
    "           \n",
    "        valor_producto=producto['precio']*producto['cantidad']\n",
    "        print(f'el valor del producto', producto['nombre'],'es', valor_producto)\n",
    "        valor_total += valor_producto   \n",
    "        print(f'el valor total del inventario es:{valor_total}')\n",
    "    return valor_total\n",
    "\n",
    " "
   ]
  },
  {
   "cell_type": "code",
   "execution_count": 35,
   "metadata": {},
   "outputs": [
    {
     "data": {
      "text/plain": [
       "[{'nombre': 'pantalon', 'precio': 5, 'cantidad': 10},\n",
       " {'nombre': 'camisa', 'precio': 10, 'cantidad': 20},\n",
       " {'nombre': 'falda', 'precio': 15, 'cantidad': 10}]"
      ]
     },
     "execution_count": 35,
     "metadata": {},
     "output_type": "execute_result"
    }
   ],
   "source": [
    "agregar_productos('pantalon',5,10)\n",
    "agregar_productos('camisa',10,20)\n",
    "agregar_productos('falda',15,10)\n",
    "inventario"
   ]
  },
  {
   "cell_type": "code",
   "execution_count": 36,
   "metadata": {},
   "outputs": [
    {
     "name": "stdout",
     "output_type": "stream",
     "text": [
      "el valor del producto pantalon es 50\n",
      "el valor total del inventario es:50\n",
      "el valor del producto camisa es 200\n",
      "el valor total del inventario es:250\n",
      "el valor del producto falda es 150\n",
      "el valor total del inventario es:400\n"
     ]
    },
    {
     "data": {
      "text/plain": [
       "400"
      ]
     },
     "execution_count": 36,
     "metadata": {},
     "output_type": "execute_result"
    }
   ],
   "source": [
    "calcular_valor_inventario()"
   ]
  },
  {
   "cell_type": "code",
   "execution_count": null,
   "metadata": {},
   "outputs": [],
   "source": [
    "Ejercicio 7. `realizar_compra()`: Permite a un cliente realizar una compra seleccionando productos del inventario. Debe interactuar con el cliente para seleccionar productos y calcular el costo total de la compra. \n",
    " \n",
    "     - Utiliza un bucle `while` para permitir al cliente realizar múltiples compras. \n",
    " \n",
    "     - Muestra el inventario y solicita al cliente ingresar el nombre del producto que desea comprar. \n",
    " \n",
    "     - Registra los productos seleccionados en un carrito y actualiza el inventario. \n",
    "     \n",
    "     - Calcula el costo total de la compra."
   ]
  },
  {
   "cell_type": "code",
   "execution_count": null,
   "metadata": {},
   "outputs": [],
   "source": [
    "\n",
    "# defino mi inventario y lo imprimo por pantalla.\n",
    "# defino funcion realizar compra. Inicializamos el coste de la compra a 0 y defino varibale carrito vacia para ir agregando elementos.\n",
    "# Para iniciar el proceso de compra, y recorrer la lista , usamos bucle while donde opcion_compra es nuestra opción true.\n",
    "# Creamos producto_deseado  y cantidad deseada para preguntar aal cliente. Posteriormente, agregamos al carro las unidades y determinamos  coste total.\n"
   ]
  },
  {
   "cell_type": "code",
   "execution_count": 48,
   "metadata": {},
   "outputs": [
    {
     "name": "stdout",
     "output_type": "stream",
     "text": [
      "{'pantalon': {'precio': 10, 'cantidad': 1}, 'camisa': {'precio': 20, 'cantidad': 2}, 'guantes': {'precion': 5, 'cantidad': 1}}\n"
     ]
    }
   ],
   "source": [
    "\n",
    "inventario = {\"pantalon\":{\"precio\":10, \"cantidad\":1},\n",
    "        \"camisa\":{\"precio\":20,\"cantidad\":2},\n",
    "        \"guantes\":{\"precion\":5,\"cantidad\":1},\n",
    "}\n",
    "print(inventario)"
   ]
  },
  {
   "cell_type": "code",
   "execution_count": 45,
   "metadata": {},
   "outputs": [
    {
     "ename": "SyntaxError",
     "evalue": "invalid syntax. Perhaps you forgot a comma? (2779925127.py, line 10)",
     "output_type": "error",
     "traceback": [
      "\u001b[0;36m  Cell \u001b[0;32mIn[45], line 10\u001b[0;36m\u001b[0m\n\u001b[0;31m    print('Nombre:', producto['Nombre'],'Precio:', producto ['Precio'],'Cantidad:'producto ['Cantidad'])\u001b[0m\n\u001b[0m                                                                       ^\u001b[0m\n\u001b[0;31mSyntaxError\u001b[0m\u001b[0;31m:\u001b[0m invalid syntax. Perhaps you forgot a comma?\n"
     ]
    }
   ],
   "source": [
    "\n",
    "\n",
    "def realizar_compra(inventario=inventario):\n",
    "    \n",
    "    coste_total = 0 \n",
    "    carrito = []\n",
    "\n",
    "    opcion_compra = True\n",
    "    while opcion_compra:\n",
    "        print('A continuación verá los productos que tenemos en la tienda: ' )\n",
    "        for producto in inventario:\n",
    "            print('Nombre:', producto['Nombre'],'Precio:', producto ['Precio'],'Cantidad:'producto ['Cantidad'])\n",
    "          \n",
    "        # Creamos producto_deseado para preguntar al cliente que producto desea\n",
    "        producto_deseado= input('por favor, indique el producto que deseacomprar: ')\n",
    "        print (f\"se ha agregado el producto', {producto_deseado}, al carrito.\")\n",
    "        \n",
    "        \n",
    "        # Creamos cantidad deseada para preguntar al cliente las unidades del producto que desea. Posteriormente, agregamos al carro las unidades y determinamos  coste total.\n",
    "        cantidad_deseada = int(input('indique las unidades que desea comprar del producto seleccionado:' ))\n",
    "        for producto_deseado in inventario:\n",
    "            if cantidad_deseada < producto ['Cantidad'] in inventario:\n",
    "                carrito.append({'Nombre': producto['nombre'],'Precio': producto['precio'],'Cantidad': cantidad_deseada})\n",
    "                coste_total += producto_deseado['Precio'] * cantidad_deseada  \n",
    "                print('total compra =', coste_total)\n",
    "        # Actualizamos la cantidad del producto en el inventario.\n",
    "                producto['Cantidad']-= cantidad_deseada\n",
    "                break\n",
    "            else:\n",
    "                print('producto no disponible en stock')\n",
    "                \n",
    "        opcion_compra2= input('Quiere agregar otro producto de nuevo? si marque s o n para n:')\n",
    "        if opcion_compra2 == 'n':\n",
    "            break\n",
    "        \n"
   ]
  },
  {
   "cell_type": "code",
   "execution_count": null,
   "metadata": {},
   "outputs": [],
   "source": [
    "\n",
    "Ejercicio 8. `procesar_pago()`: Procesa el pago de una compra, calcula el cambio y muestra un mensaje de confirmación. \n",
    " \n",
    "- Utiliza un bloque `try...except` para manejar excepciones. \n",
    " \n",
    "- Solicita al cliente ingresar la cantidad total y la cantidad de pago usando un input. \n",
    " \n",
    "- Calcula el cambio y muestra un mensaje de pago exitoso o un error en caso de monto insuficiente. \n"
   ]
  },
  {
   "cell_type": "code",
   "execution_count": 49,
   "metadata": {},
   "outputs": [],
   "source": [
    "  #definimos procesar pago y empleamos try..except.\n",
    "  # solicitamos al cliente que ingrese la cantidad total compra y la cantidad abonada para su compra.\n",
    "  #cotejar si el monto es o no suficiente"
   ]
  },
  {
   "cell_type": "code",
   "execution_count": 38,
   "metadata": {},
   "outputs": [],
   "source": [
    "def procesar_pago():\n",
    "    try:\n",
    "        # solicitamos al cliente que ingrese la cantidad total compra\n",
    "        cantidad_total= float(input(\" ¿ introduce la cantidad total de la compra:\",))\n",
    "        \n",
    "        # solicitamos al cliente la cantidad abonada para el pago de su compra.\n",
    "        cantidad_abonada= float(input(\"¿ que cantidad ha pagado por su compra:\"))\n",
    "        \n",
    "        # cotejamos si la cantidad abona es suficiente o no.\n",
    "        if cantidad_abonada < cantidad_total:\n",
    "            print('monto insuficiente. Por favor, introduzca el importe restante')\n",
    "        else:\n",
    "            cambio=cantidad_abonada-cantidad_total\n",
    "            print(f\"Su cambio es:{cambio}.\")\n",
    "            print('operacion realizada con exito')\n",
    "    except ValueError:\n",
    "        print('la cantidad introducida no es correcta, repita la operacion')\n",
    "        "
   ]
  },
  {
   "cell_type": "code",
   "execution_count": 39,
   "metadata": {},
   "outputs": [
    {
     "name": "stdout",
     "output_type": "stream",
     "text": [
      "monto insuficiente. Por favor, introduzca el importe restante\n"
     ]
    }
   ],
   "source": [
    "procesar_pago()"
   ]
  },
  {
   "cell_type": "code",
   "execution_count": null,
   "metadata": {},
   "outputs": [],
   "source": [
    "Ejercicio  9. `agregar_cliente(nombre, email)`: Agrega un nuevo cliente al registro de clientes. Debe recibir el nombre y el correo electrónico del cliente como arámetros. \n",
    " - Agrega un cliente al diccionario de clientes con su nombre y correo electrónico."
   ]
  },
  {
   "cell_type": "code",
   "execution_count": null,
   "metadata": {},
   "outputs": [],
   "source": [
    "# creamos lista vacia de \"clientes\"\n",
    "#  definir funcion agregar_cliente con parametros; nombre e mail. sis el cliente esta en mi base de datos nos muestra mensaje de  ya registrado\n",
    "  # crear variable nuevo cliente y agregar nuevos clientes a la lista\n"
   ]
  },
  {
   "cell_type": "code",
   "execution_count": 64,
   "metadata": {},
   "outputs": [],
   "source": [
    "# creamos lista vacia de \"clientes\"\n",
    "clientes=[]"
   ]
  },
  {
   "cell_type": "code",
   "execution_count": 65,
   "metadata": {},
   "outputs": [],
   "source": [
    "\n",
    "def agregar_clientes(nombre,email):             #  definir funcion agregar_cliente con parametros; nombre e mail. sis el cliente esta en mi base de datos nos muestra mensaje de  ya registrado\n",
    "    for cliente in clientes:\n",
    "        if cliente['nombre']== nombre:\n",
    "            print(f\"el cliente {nombre} ya esta registrado\")\n",
    "            return\n",
    "                                                # crear variable nuevo cliente y agregar nuevos clientes a la lista\n",
    "    nuevo_cliente={'nombre':nombre,'email':email}\n",
    "    clientes.append(nuevo_cliente)\n",
    "    print(f\" el cliente registrado {nombre} tiene el email {email}\")"
   ]
  },
  {
   "cell_type": "code",
   "execution_count": 66,
   "metadata": {},
   "outputs": [
    {
     "name": "stdout",
     "output_type": "stream",
     "text": [
      " el cliente registrado edu tiene el email edu@gmail.com\n"
     ]
    }
   ],
   "source": [
    "agregar_clientes('edu','edu@gmail.com')"
   ]
  },
  {
   "cell_type": "code",
   "execution_count": 67,
   "metadata": {},
   "outputs": [
    {
     "name": "stdout",
     "output_type": "stream",
     "text": [
      " el cliente registrado ana tiene el email ana@gmail.com\n"
     ]
    }
   ],
   "source": [
    "agregar_clientes('ana','ana@gmail.com')"
   ]
  },
  {
   "cell_type": "code",
   "execution_count": 68,
   "metadata": {},
   "outputs": [
    {
     "name": "stdout",
     "output_type": "stream",
     "text": [
      " el cliente registrado alba tiene el email avg@gmail.com\n"
     ]
    }
   ],
   "source": [
    "agregar_clientes('alba','avg@gmail.com')"
   ]
  },
  {
   "cell_type": "code",
   "execution_count": 69,
   "metadata": {},
   "outputs": [
    {
     "name": "stdout",
     "output_type": "stream",
     "text": [
      "el cliente alba ya esta registrado\n"
     ]
    }
   ],
   "source": [
    "agregar_clientes('alba','avg@gmail.com')"
   ]
  },
  {
   "cell_type": "code",
   "execution_count": 70,
   "metadata": {},
   "outputs": [
    {
     "data": {
      "text/plain": [
       "[{'nombre': 'edu', 'email': 'edu@gmail.com'},\n",
       " {'nombre': 'ana', 'email': 'ana@gmail.com'},\n",
       " {'nombre': 'alba', 'email': 'avg@gmail.com'}]"
      ]
     },
     "execution_count": 70,
     "metadata": {},
     "output_type": "execute_result"
    }
   ],
   "source": [
    "clientes"
   ]
  },
  {
   "cell_type": "code",
   "execution_count": null,
   "metadata": {},
   "outputs": [],
   "source": [
    "Ejercicio 10- `ver_clientes()`: Muestra la lista de clientes registrados con sus nombres y correos electrónicos. \n",
    " \n",
    "- Utiliza un bucle `for` para recorrer la base de datos de clientes. \n",
    " \n",
    "- Imprime los detalles de cada cliente (nombre y correo electrónico). "
   ]
  },
  {
   "cell_type": "code",
   "execution_count": 73,
   "metadata": {},
   "outputs": [
    {
     "data": {
      "text/plain": [
       "[{'nombre': 'edu', 'email': 'edu@gmail.com'},\n",
       " {'nombre': 'ana', 'email': 'ana@gmail.com'},\n",
       " {'nombre': 'alba', 'email': 'avg@gmail.com'}]"
      ]
     },
     "execution_count": 73,
     "metadata": {},
     "output_type": "execute_result"
    }
   ],
   "source": [
    "# lista de clientes en mi base de dados\n",
    "clientes\n"
   ]
  },
  {
   "cell_type": "code",
   "execution_count": 74,
   "metadata": {},
   "outputs": [],
   "source": [
    "def ver_clientes(clientes):             # creo funcion ver_clientes, recorro mi base con bucle for e pido que imprima los detalles de cada uno\n",
    "    for cliente in clientes:\n",
    "        print(f\"Nombre: {cliente['nombre']} -Email {cliente['email']}\")\n",
    "    return"
   ]
  },
  {
   "cell_type": "code",
   "execution_count": 72,
   "metadata": {},
   "outputs": [
    {
     "name": "stdout",
     "output_type": "stream",
     "text": [
      "Nombre: edu -Email edu@gmail.com\n",
      "Nombre: ana -Email ana@gmail.com\n",
      "Nombre: alba -Email avg@gmail.com\n"
     ]
    }
   ],
   "source": [
    "ver_clientes(clientes)              # llamo a la función"
   ]
  },
  {
   "cell_type": "code",
   "execution_count": null,
   "metadata": {},
   "outputs": [],
   "source": [
    "Ejercicio 11. `registrar_compra(nombre_cliente, carrito)`: Registra una compra para un cliente, actualiza las ventas totales y agrega la compra al historial del cliente. Debe recibir el nombre del cliente y el carrito de compras como \n",
    "parámetros.\n",
    " - Busca al cliente en el diccionario de clientes. \n",
    "- Si el cliente no esta en el diccionario de clientes, muestra que no se puede realizar la acción por que el cliente no está en el diccionario.  \n",
    "- Calcula el total de la compra y registra la compra, incluyendo los productos y el total. "
   ]
  },
  {
   "cell_type": "code",
   "execution_count": 9,
   "metadata": {},
   "outputs": [],
   "source": [
    "\n",
    "clientes = {'alba': {\"email\":'avg@mail.com',\"historial\":[]}, 'edu': {\"email\":'edu@mail.com',\"historial\":[]}}\n",
    "\n",
    "\n",
    "def registrar_compra(nombre_cliente, carrito):\n",
    "            \n",
    "# Verificar si el cliente existe y sal de la función si el cliente no está registrado\n",
    "    if nombre_cliente not in clientes:\n",
    "        print(\"No se puede realizar la acción\", nombre_cliente, \"no está registrado.\")\n",
    "        return  \n",
    "\n",
    "    total_compra = 0\n",
    "    compra_detalles = []  \n",
    "# Creamos lista vacía para almacenar la informacion de la compra.\n",
    "    for producto,informacion in carrito.items():\n",
    "        precio = informacion ['precio']\n",
    "        cantidad = informacion['cantidad']\n",
    "        total_compra += precio * cantidad\n",
    "        compra_detalles.append(f\"{producto}: {cantidad} x {precio} Euros\")\n",
    "\n",
    "# Calcular el total de la compra\n",
    "\n",
    "    # Registrar la compra en el historial del cliente\n",
    "    clientes[nombre_cliente]['historial'].append({\"detalles\": compra_detalles,\"total\": total_compra })\n",
    "    print(\"Compra registrada para el cliente\", nombre_cliente)\n",
    "    print(\"Detalles compra:\")\n",
    "    for detalle in compra_detalles:\n",
    "        print(detalle)\n",
    "    print(\"total compra:\", total_compra)\n"
   ]
  },
  {
   "cell_type": "code",
   "execution_count": 11,
   "metadata": {},
   "outputs": [
    {
     "name": "stdout",
     "output_type": "stream",
     "text": [
      "Compra registrada para el cliente edu\n",
      "Detalles compra:\n",
      "falda: 3 x 20 Euros\n",
      "Pantalón: 2 x 30 Euros\n",
      "total compra: 120\n"
     ]
    }
   ],
   "source": [
    "\n",
    "carrito_cliente= {\"falda\": {\"precio\": 20, \"cantidad\": 3},\"Pantalón\": {\"precio\": 30, \"cantidad\": 2}}\n",
    "\n",
    "registrar_compra(\"edu\", carrito_cliente)\n"
   ]
  },
  {
   "cell_type": "code",
   "execution_count": 12,
   "metadata": {},
   "outputs": [
    {
     "name": "stdout",
     "output_type": "stream",
     "text": [
      "Compra registrada para el cliente edu\n",
      "Detalles compra:\n",
      "falda: 3 x 20 Euros\n",
      "Pantalón: 2 x 30 Euros\n",
      "total compra: 120\n"
     ]
    }
   ],
   "source": [
    "\n",
    "carrito_cliente2= {\"camiseta\": {\"precio\":10 , \"cantidad\": 1},\"guantes\": {\"precio\": 15, \"cantidad\": 2}}\n",
    "\n",
    "registrar_compra(\"edu\", carrito_cliente)"
   ]
  },
  {
   "cell_type": "code",
   "execution_count": null,
   "metadata": {},
   "outputs": [],
   "source": [
    "Ejercicio -12 `ver_compras_cliente(nombre_cliente)`: Muestra el historial de compras de un cliente. Debe recibir el nombre del cliente como parámetro. \n",
    " - Busca al cliente en el diccionario de clientes. \n",
    "- Muestra las compras realizadas por el cliente, incluyendo detalles de productos y totales. "
   ]
  },
  {
   "cell_type": "code",
   "execution_count": null,
   "metadata": {},
   "outputs": [],
   "source": [
    "Ejercicio 13 - `calcular_ventas_totales()`: Muestra las ventas totales de la tienda. \n",
    "- Suma los totales de todas las compras realizadas y muestra el total de ventas totales en la tienda"
   ]
  }
 ],
 "metadata": {
  "kernelspec": {
   "display_name": "base",
   "language": "python",
   "name": "python3"
  },
  "language_info": {
   "codemirror_mode": {
    "name": "ipython",
    "version": 3
   },
   "file_extension": ".py",
   "mimetype": "text/x-python",
   "name": "python",
   "nbconvert_exporter": "python",
   "pygments_lexer": "ipython3",
   "version": "3.11.5"
  }
 },
 "nbformat": 4,
 "nbformat_minor": 2
}
